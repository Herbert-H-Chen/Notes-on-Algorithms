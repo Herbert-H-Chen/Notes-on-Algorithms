{
 "cells": [
  {
   "cell_type": "markdown",
   "id": "2586b5a4",
   "metadata": {},
   "source": [
    "环形数组（Circular Array）是一种非常有用的数据结构，尤其在处理循环缓冲区、队列等问题时非常高效。它的核心思想是数组的末尾可以连接回数组的开头，从而模拟一个“环”的效果。这使得它能有效地重复利用存储空间，不需要像普通数组那样在达到末尾时停止。\n",
    "\n",
    "环形数组的基本原理\n",
    "环形数组的特点：\n",
    "\n",
    "数组的末尾元素和开头元素相连。\n",
    "\n",
    "使用两个指针：头指针（head）和尾指针（tail）来跟踪当前有效的元素区间。\n",
    "\n",
    "当一个操作完成后，头指针或尾指针需要根据环形特性绕回到数组的开头。\n",
    "\n",
    "环形数组实现的常见技巧：\n",
    "数组下标的循环：数组下标的循环通常是通过取模操作实现的。例如，(i + 1) % N 可以确保数组下标在 0 到 N-1 范围内循环。\n",
    "\n",
    "双指针法：维护两个指针（head 和 tail），分别表示数据区的起始位置和结束位置。通过这两个指针管理数据流动。\n",
    "\n",
    "缓冲区大小控制：通常环形数组有一个最大容量，当数组满时，你可以选择丢弃最旧的元素或者停止插入。\n",
    "\n"
   ]
  },
  {
   "cell_type": "code",
   "execution_count": 5,
   "id": "166adf5b",
   "metadata": {},
   "outputs": [
    {
     "name": "stdout",
     "output_type": "stream",
     "text": [
      "[1, 2, 3, 4, 5]\n",
      "[None, 2, 3, 4, 5]\n",
      "[6, 2, 3, 4, 5]\n"
     ]
    }
   ],
   "source": [
    "class CircularArray:\n",
    "    def __init__(self, capacity: int):\n",
    "        self.capacity = capacity      # 数组的容量\n",
    "        self.buffer = [None] * capacity  # 用于存储数据的数组\n",
    "        self.head = 0                 # 头指针\n",
    "        self.tail = 0                 # 尾指针\n",
    "        self.size = 0                 # 当前元素的数量\n",
    "\n",
    "    def is_empty(self):\n",
    "        return self.size == 0\n",
    "\n",
    "    def is_full(self):\n",
    "        return self.size == self.capacity\n",
    "\n",
    "    def enqueue(self, value):\n",
    "        \"\"\"插入数据，类似队列的入队操作\"\"\"\n",
    "        if self.is_full():\n",
    "            raise Exception(\"Circular Array is full\")\n",
    "        self.buffer[self.tail] = value\n",
    "        self.tail = (self.tail + 1) % self.capacity  # 更新尾指针，循环使用\n",
    "        self.size += 1\n",
    "\n",
    "    def dequeue(self):\n",
    "        \"\"\"删除数据，类似队列的出队操作\"\"\"\n",
    "        if self.is_empty():\n",
    "            raise Exception(\"Circular Array is empty\")\n",
    "        value = self.buffer[self.head]\n",
    "        self.buffer[self.head] = None  # 清空该位置\n",
    "        self.head = (self.head + 1) % self.capacity  # 更新头指针，循环使用\n",
    "        self.size -= 1\n",
    "        return value\n",
    "\n",
    "    def peek(self):\n",
    "        \"\"\"查看头部元素（不删除）\"\"\"\n",
    "        if self.is_empty():\n",
    "            raise Exception(\"Circular Array is empty\")\n",
    "        return self.buffer[self.head]\n",
    "\n",
    "    def __str__(self):\n",
    "        \"\"\"打印数组的有效部分\"\"\"\n",
    "        if self.is_empty():\n",
    "            return \"Circular Array is empty\"\n",
    "        result = []\n",
    "        index = self.head\n",
    "        for _ in range(self.size):\n",
    "            result.append(str(self.buffer[index]))\n",
    "            index = (index + 1) % self.capacity\n",
    "        return \" -> \".join(result)\n",
    "\n",
    "\n",
    "# 示例用法\n",
    "circ_array = CircularArray(5)  # 创建一个容量为5的环形数组\n",
    "\n",
    "# 入队操作\n",
    "circ_array.enqueue(1)\n",
    "circ_array.enqueue(2)\n",
    "circ_array.enqueue(3)\n",
    "circ_array.enqueue(4)\n",
    "circ_array.enqueue(5)\n",
    "\n",
    "print(circ_array.buffer)  # 输出: 1 -> 2 -> 3 -> 4 -> 5\n",
    "\n",
    "# 出队操作\n",
    "circ_array.dequeue()\n",
    "print(circ_array.buffer)  # 输出: 2 -> 3 -> 4 -> 5\n",
    "\n",
    "# 再次入队，覆盖最早的元素\n",
    "circ_array.enqueue(6)\n",
    "print(circ_array.buffer)  # 输出: 2 -> 3 -> 4 -> 5 -> 6\n"
   ]
  },
  {
   "cell_type": "code",
   "execution_count": null,
   "id": "8999fd3e",
   "metadata": {},
   "outputs": [],
   "source": []
  }
 ],
 "metadata": {
  "kernelspec": {
   "display_name": "Learning",
   "language": "python",
   "name": "python3"
  },
  "language_info": {
   "codemirror_mode": {
    "name": "ipython",
    "version": 3
   },
   "file_extension": ".py",
   "mimetype": "text/x-python",
   "name": "python",
   "nbconvert_exporter": "python",
   "pygments_lexer": "ipython3",
   "version": "3.10.18"
  }
 },
 "nbformat": 4,
 "nbformat_minor": 5
}
