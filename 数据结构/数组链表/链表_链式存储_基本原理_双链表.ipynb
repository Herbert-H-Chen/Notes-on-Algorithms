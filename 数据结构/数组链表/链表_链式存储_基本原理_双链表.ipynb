{
 "cells": [
  {
   "cell_type": "markdown",
   "id": "393eaf6d",
   "metadata": {},
   "source": [
    "#### 双链表的基本操作"
   ]
  },
  {
   "cell_type": "code",
   "execution_count": 2,
   "id": "8ff8036b",
   "metadata": {},
   "outputs": [],
   "source": [
    "from typing import List, Optional\n",
    "\n",
    "class DoublyListNode:\n",
    "    def __init__(self, x):\n",
    "        self.val = x\n",
    "        self.next = None\n",
    "        self.prev = None\n",
    "\n",
    "\n",
    "def createDoublyLinkedList(arr: List[int]) -> Optional[DoublyListNode]:\n",
    "    if not arr:\n",
    "        return None\n",
    "\n",
    "    head = DoublyListNode(arr[0])\n",
    "    cur = head\n",
    "\n",
    "    for val in arr[1:]:\n",
    "        new_node = DoublyListNode(val)\n",
    "        cur.next = new_node\n",
    "        new_node.prev = cur\n",
    "        cur = cur.next\n",
    "\n",
    "    return head\n"
   ]
  },
  {
   "cell_type": "markdown",
   "id": "726df50d",
   "metadata": {},
   "source": [
    "### 查/改\n",
    "#### 双链表的遍历/查找/修改"
   ]
  },
  {
   "cell_type": "code",
   "execution_count": null,
   "id": "7d4ca09a",
   "metadata": {},
   "outputs": [
    {
     "name": "stdout",
     "output_type": "stream",
     "text": [
      "1\n",
      "2\n",
      "3\n",
      "4\n",
      "5\n",
      "5\n",
      "4\n",
      "3\n",
      "2\n",
      "1\n"
     ]
    }
   ],
   "source": [
    "head = createDoublyLinkedList([1, 2, 3, 4, 5])\n",
    "tail = None\n",
    "\n",
    "p = head\n",
    "while p:\n",
    "    if p.next == None:\n",
    "        tail = p\n",
    "    print(p.val)\n",
    "    p = p.next\n",
    "\n",
    "p = tail\n",
    "while p:\n",
    "    print(p.val)\n",
    "    p = p.prev"
   ]
  },
  {
   "cell_type": "markdown",
   "id": "be43c638",
   "metadata": {},
   "source": [
    "#### 在双链表头部插入新元素"
   ]
  },
  {
   "cell_type": "code",
   "execution_count": 13,
   "id": "1e9c74ca",
   "metadata": {},
   "outputs": [
    {
     "name": "stdout",
     "output_type": "stream",
     "text": [
      "0\n",
      "1\n",
      "2\n",
      "3\n",
      "4\n",
      "5\n",
      "5\n",
      "4\n",
      "3\n",
      "2\n",
      "1\n",
      "0\n"
     ]
    }
   ],
   "source": [
    "head = createDoublyLinkedList([1, 2, 3, 4, 5])\n",
    "\n",
    "new_head = DoublyListNode(0)\n",
    "new_head.next = head\n",
    "head.prev = new_head\n",
    "\n",
    "head = new_head\n",
    "\n",
    "\n",
    "p = head\n",
    "while p:\n",
    "    if p.next == None:\n",
    "        tail = p\n",
    "    print(p.val)\n",
    "    p = p.next\n",
    "\n",
    "p = tail\n",
    "while p:\n",
    "    print(p.val)\n",
    "    p = p.prev"
   ]
  },
  {
   "cell_type": "markdown",
   "id": "442184d0",
   "metadata": {},
   "source": [
    "#### 在双链表尾部插入新元素"
   ]
  },
  {
   "cell_type": "code",
   "execution_count": 14,
   "id": "0ca90570",
   "metadata": {},
   "outputs": [
    {
     "name": "stdout",
     "output_type": "stream",
     "text": [
      "1\n",
      "2\n",
      "3\n",
      "4\n",
      "5\n",
      "6\n",
      "6\n",
      "5\n",
      "4\n",
      "3\n",
      "2\n",
      "1\n"
     ]
    }
   ],
   "source": [
    "head = createDoublyLinkedList([1, 2, 3, 4, 5])\n",
    "\n",
    "p = head\n",
    "while p.next is not None:\n",
    "    p = p.next\n",
    "\n",
    "new_node = DoublyListNode(6)\n",
    "p.next = new_node\n",
    "new_node.prev = p\n",
    "p = new_node\n",
    "\n",
    "\n",
    "p = head\n",
    "while p:\n",
    "    if p.next == None:\n",
    "        tail = p\n",
    "    print(p.val)\n",
    "    p = p.next\n",
    "\n",
    "p = tail\n",
    "while p:\n",
    "    print(p.val)\n",
    "    p = p.prev"
   ]
  },
  {
   "cell_type": "markdown",
   "id": "3c280d76",
   "metadata": {},
   "source": [
    "#### 在双链表中间插入新元素"
   ]
  },
  {
   "cell_type": "code",
   "execution_count": null,
   "id": "f1c9e432",
   "metadata": {},
   "outputs": [
    {
     "name": "stdout",
     "output_type": "stream",
     "text": [
      "1\n",
      "2\n",
      "3\n",
      "66\n",
      "4\n",
      "5\n",
      "5\n",
      "4\n",
      "66\n",
      "3\n",
      "2\n",
      "1\n"
     ]
    }
   ],
   "source": [
    "head = createDoublyLinkedList([1, 2, 3, 4, 5])\n",
    "\n",
    "p = head\n",
    "for _ in range(2):\n",
    "    p = p.next\n",
    "\n",
    "new_node = DoublyListNode(66)\n",
    "new_node.next = p.next\n",
    "new_node.prev = p\n",
    "\n",
    "p.next.prev = new_node\n",
    "p.next = new_node\n",
    "\n",
    "p = head\n",
    "while p:\n",
    "    if p.next == None:\n",
    "        tail = p\n",
    "    print(p.val)\n",
    "    p = p.next\n",
    "\n",
    "p = tail\n",
    "while p:\n",
    "    print(p.val)\n",
    "    p = p.prev"
   ]
  },
  {
   "cell_type": "markdown",
   "id": "87d09a13",
   "metadata": {},
   "source": [
    "### 删\n",
    "#### 在双链表中删除一个节点"
   ]
  },
  {
   "cell_type": "code",
   "execution_count": null,
   "id": "d2e2ad49",
   "metadata": {},
   "outputs": [
    {
     "name": "stdout",
     "output_type": "stream",
     "text": [
      "1\n",
      "2\n",
      "3\n",
      "5\n",
      "5\n",
      "3\n",
      "2\n",
      "1\n"
     ]
    }
   ],
   "source": [
    "head = createDoublyLinkedList([1, 2, 3, 4, 5])\n",
    "\n",
    "p = head\n",
    "for _ in range(2):\n",
    "    p = p.next\n",
    "\n",
    "\n",
    "todelete = p.next\n",
    "p.next = todelete.next\n",
    "p.next.prev = p\n",
    "\n",
    "todelete.next = None\n",
    "todelete.prev = None\n",
    "\n",
    "p = head\n",
    "while p:\n",
    "    if p.next == None:\n",
    "        tail = p\n",
    "    print(p.val)\n",
    "    p = p.next\n",
    "\n",
    "p = tail\n",
    "while p:\n",
    "    print(p.val)\n",
    "    p = p.prev"
   ]
  },
  {
   "cell_type": "markdown",
   "id": "0d84e5cd",
   "metadata": {},
   "source": [
    "#### 在双链表头部删除元素"
   ]
  },
  {
   "cell_type": "code",
   "execution_count": 21,
   "id": "0deeb466",
   "metadata": {},
   "outputs": [
    {
     "name": "stdout",
     "output_type": "stream",
     "text": [
      "2\n",
      "3\n",
      "4\n",
      "5\n",
      "5\n",
      "4\n",
      "3\n",
      "2\n"
     ]
    }
   ],
   "source": [
    "head = createDoublyLinkedList([1, 2, 3, 4, 5])\n",
    "\n",
    "todelete = head\n",
    "head = head.next\n",
    "head.prev = None\n",
    "\n",
    "todelete.next = None\n",
    "\n",
    "p = head\n",
    "while p:\n",
    "    if p.next == None:\n",
    "        tail = p\n",
    "    print(p.val)\n",
    "    p = p.next\n",
    "\n",
    "p = tail\n",
    "while p:\n",
    "    print(p.val)\n",
    "    p = p.prev"
   ]
  },
  {
   "cell_type": "markdown",
   "id": "296672db",
   "metadata": {},
   "source": [
    "#### 在双链表尾部删除元素"
   ]
  },
  {
   "cell_type": "code",
   "execution_count": 22,
   "id": "8d43b845",
   "metadata": {},
   "outputs": [
    {
     "name": "stdout",
     "output_type": "stream",
     "text": [
      "1\n",
      "2\n",
      "3\n",
      "4\n",
      "4\n",
      "3\n",
      "2\n",
      "1\n"
     ]
    }
   ],
   "source": [
    "head = createDoublyLinkedList([1, 2, 3, 4, 5])\n",
    "\n",
    "p = head\n",
    "while p.next is not None:\n",
    "    p = p.next\n",
    "    \n",
    "p.prev.next = None\n",
    "p.prev = None\n",
    "\n",
    "p = head\n",
    "while p:\n",
    "    if p.next == None:\n",
    "        tail = p\n",
    "    print(p.val)\n",
    "    p = p.next\n",
    "\n",
    "p = tail\n",
    "while p:\n",
    "    print(p.val)\n",
    "    p = p.prev"
   ]
  },
  {
   "cell_type": "code",
   "execution_count": null,
   "id": "3df0909f",
   "metadata": {},
   "outputs": [],
   "source": []
  }
 ],
 "metadata": {
  "kernelspec": {
   "display_name": "Learning",
   "language": "python",
   "name": "python3"
  },
  "language_info": {
   "codemirror_mode": {
    "name": "ipython",
    "version": 3
   },
   "file_extension": ".py",
   "mimetype": "text/x-python",
   "name": "python",
   "nbconvert_exporter": "python",
   "pygments_lexer": "ipython3",
   "version": "3.10.18"
  }
 },
 "nbformat": 4,
 "nbformat_minor": 5
}
