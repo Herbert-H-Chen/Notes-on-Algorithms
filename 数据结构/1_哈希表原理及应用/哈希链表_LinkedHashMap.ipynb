{
 "cells": [
  {
   "cell_type": "markdown",
   "id": "125ca4fc",
   "metadata": {},
   "source": [
    "### 哈希链表（LinkedHashMap）实现思路"
   ]
  },
  {
   "cell_type": "code",
   "execution_count": 7,
   "id": "cf330c27",
   "metadata": {},
   "outputs": [],
   "source": [
    "class MyLinkedHashMap:\n",
    "    class Node:\n",
    "        def __init__(self, key, val):\n",
    "            self.key = key\n",
    "            self.val = val\n",
    "            self.next = None\n",
    "            self.prev = None\n",
    "\n",
    "    def __init__(self):\n",
    "        self.head = self.Node(None, None)\n",
    "        self.tail = self.Node(None, None)\n",
    "        self.head.next = self.tail\n",
    "        self.tail.prev = self.head\n",
    "        self.map = dict()\n",
    "\n",
    "    def get(self, key):\n",
    "        if key not in self.map:\n",
    "            return\n",
    "        return self.map[key]\n",
    "    \n",
    "    def put(self, key, val):\n",
    "        if key not in self.map:\n",
    "            node = self.Node(key, val)\n",
    "            self.add_last_node(node)\n",
    "            self.map[key] = node\n",
    "            return\n",
    "        \n",
    "        self.map[key] = node\n",
    "\n",
    "    def remove(self, key):\n",
    "        if key not in self.map:\n",
    "            return\n",
    "        \n",
    "        node = self.map[key]\n",
    "        del self.map[key]\n",
    "        self.remove_node(node)\n",
    "\n",
    "    def contains_key(self, key):\n",
    "        return key in self.map\n",
    "\n",
    "    def add_last_node(self, x):\n",
    "        temp = self.tail.prev\n",
    "\n",
    "        x.next = self.tail\n",
    "        x.prev = temp\n",
    "\n",
    "        temp.next = x\n",
    "        self.tail.prev = x\n",
    "\n",
    "    def remove_node(self, x):\n",
    "        prev = x.prev\n",
    "        next = x.next\n",
    "\n",
    "        prev.next = next\n",
    "        next.prev = prev\n",
    "\n",
    "        x.next = x.prev = None\n",
    "\n",
    "    def keys(self):\n",
    "        key_list = []\n",
    "        p = self.head.next\n",
    "        while p != self.tail:\n",
    "            key_list.append(p.key)\n",
    "            p = p.next\n",
    "        return key_list\n",
    "\n",
    "\n",
    "    \n"
   ]
  },
  {
   "cell_type": "code",
   "execution_count": 8,
   "id": "9c13088e",
   "metadata": {},
   "outputs": [
    {
     "name": "stdout",
     "output_type": "stream",
     "text": [
      "['a', 'b', 'c', 'd', 'e']\n",
      "['a', 'b', 'd', 'e']\n"
     ]
    }
   ],
   "source": [
    "if __name__ == '__main__':\n",
    "    map = MyLinkedHashMap()\n",
    "    map.put('a', 1)\n",
    "    map.put(\"b\", 2)\n",
    "    map.put(\"c\", 3)\n",
    "    map.put(\"d\", 4)\n",
    "    map.put(\"e\", 5)\n",
    "\n",
    "\n",
    "    print(map.keys())  # ['a', 'b', 'c', 'd', 'e']\n",
    "    map.remove(\"c\")\n",
    "    print(map.keys())  # ['a', 'b', 'd', 'e']"
   ]
  },
  {
   "cell_type": "markdown",
   "id": "26c5ce19",
   "metadata": {},
   "source": []
  }
 ],
 "metadata": {
  "kernelspec": {
   "display_name": "Learning",
   "language": "python",
   "name": "python3"
  },
  "language_info": {
   "codemirror_mode": {
    "name": "ipython",
    "version": 3
   },
   "file_extension": ".py",
   "mimetype": "text/x-python",
   "name": "python",
   "nbconvert_exporter": "python",
   "pygments_lexer": "ipython3",
   "version": "3.10.18"
  }
 },
 "nbformat": 4,
 "nbformat_minor": 5
}
