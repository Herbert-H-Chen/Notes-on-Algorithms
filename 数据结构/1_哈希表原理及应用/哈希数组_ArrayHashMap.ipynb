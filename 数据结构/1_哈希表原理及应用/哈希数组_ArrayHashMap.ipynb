{
 "cells": [
  {
   "cell_type": "markdown",
   "id": "ef522a98",
   "metadata": {},
   "source": [
    "### 哈希数组（ArrayHashMap）实现思路"
   ]
  },
  {
   "cell_type": "code",
   "execution_count": 1,
   "id": "f06cf158",
   "metadata": {},
   "outputs": [],
   "source": [
    "import random"
   ]
  },
  {
   "cell_type": "code",
   "execution_count": 8,
   "id": "a17bbfe9",
   "metadata": {},
   "outputs": [],
   "source": [
    "class Node:\n",
    "    def __init__(self, key, val):\n",
    "        self.key = key\n",
    "        self.val = val\n",
    "\n",
    "\n",
    "class MyArrayHashMap:\n",
    "    def __init__(self):\n",
    "        self.map = dict()\n",
    "        self.arr = []\n",
    "\n",
    "    def get(self, key):\n",
    "        if key not in self.map:\n",
    "            return\n",
    "        index = self.map[key]\n",
    "        return self.arr[index].val\n",
    "\n",
    "    def put(self, key, val):\n",
    "        if self.containsKey(key):\n",
    "            i = self.map[key]\n",
    "            self.arr[i].val = val\n",
    "            return\n",
    "\n",
    "        self.arr.append(Node(key, val))\n",
    "        self.map[key] = len(self.arr) - 1\n",
    "\n",
    "    def remove(self, key):\n",
    "        if key not in self.map:\n",
    "            return\n",
    "        \n",
    "        index = self.map[key]\n",
    "        node = self.arr[index]\n",
    "\n",
    "        e = self.arr[-1]\n",
    "        self.arr[index] = e\n",
    "        self.arr[-1] = node\n",
    "\n",
    "        self.map[e.key] = index\n",
    "        self.arr.pop()\n",
    "\n",
    "        self.map.pop(node.key)\n",
    "\n",
    "\n",
    "    def randomKey(self):\n",
    "        n = len(self.arr)\n",
    "        randomIndex = random.randint(0, n-1)\n",
    "        return self.arr[randomIndex].key\n",
    "\n",
    "\n",
    "    def containsKey(self, key):\n",
    "        return key in self.map\n",
    "\n",
    "    \n",
    "    def size(self):\n",
    "        return len(self.map)"
   ]
  },
  {
   "cell_type": "code",
   "execution_count": 9,
   "id": "3f368bb4",
   "metadata": {},
   "outputs": [
    {
     "name": "stdout",
     "output_type": "stream",
     "text": [
      "1\n",
      "2\n",
      "3\n",
      "1\n"
     ]
    }
   ],
   "source": [
    "if __name__ == '__main__':\n",
    "    map = MyArrayHashMap()\n",
    "    map.put(1, 1)\n",
    "    map.put(2, 2)\n",
    "    map.put(3, 3)\n",
    "    map.put(4, 4)\n",
    "    map.put(5, 5)\n",
    "\n",
    "    print(map.get(1)) # 1\n",
    "    print(map.randomKey())\n",
    "\n",
    "    map.remove(4)\n",
    "    print(map.randomKey())\n",
    "    print(map.randomKey())"
   ]
  },
  {
   "cell_type": "code",
   "execution_count": null,
   "id": "12222c4e",
   "metadata": {},
   "outputs": [],
   "source": []
  }
 ],
 "metadata": {
  "kernelspec": {
   "display_name": "Learning",
   "language": "python",
   "name": "python3"
  },
  "language_info": {
   "codemirror_mode": {
    "name": "ipython",
    "version": 3
   },
   "file_extension": ".py",
   "mimetype": "text/x-python",
   "name": "python",
   "nbconvert_exporter": "python",
   "pygments_lexer": "ipython3",
   "version": "3.10.18"
  }
 },
 "nbformat": 4,
 "nbformat_minor": 5
}
