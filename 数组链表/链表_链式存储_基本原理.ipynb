{
 "cells": [
  {
   "cell_type": "code",
   "execution_count": 1,
   "id": "b933a49a",
   "metadata": {},
   "outputs": [],
   "source": [
    "class ListNode:\n",
    "    def __init__(self, x):\n",
    "        self.val = x\n",
    "        self.next = None\n",
    "\n",
    "def createLinkedList(arr: 'List[int]') -> 'ListNode':\n",
    "    if arr is None or len(arr) == 0:\n",
    "        return None\n",
    "\n",
    "    head = ListNode(arr[0])\n",
    "    cur = head\n",
    "    for i in range(1, len(arr)):\n",
    "        cur.next = ListNode(arr[i])\n",
    "        cur = cur.next\n",
    "\n",
    "    return head"
   ]
  },
  {
   "cell_type": "markdown",
   "id": "ea4a0275",
   "metadata": {},
   "source": [
    "### 查/改"
   ]
  },
  {
   "cell_type": "code",
   "execution_count": 2,
   "id": "01306dc4",
   "metadata": {},
   "outputs": [
    {
     "name": "stdout",
     "output_type": "stream",
     "text": [
      "1\n",
      "2\n",
      "3\n",
      "4\n",
      "5\n"
     ]
    }
   ],
   "source": [
    "head = createLinkedList([1,2,3,4,5])\n",
    "\n",
    "p = head\n",
    "while p is not None:\n",
    "    print(p.val)\n",
    "    p = p.next"
   ]
  },
  {
   "cell_type": "markdown",
   "id": "094a64d8",
   "metadata": {},
   "source": [
    "### 增\n",
    "#### 在单链表头部插入新元素"
   ]
  },
  {
   "cell_type": "code",
   "execution_count": 5,
   "id": "a226029f",
   "metadata": {},
   "outputs": [
    {
     "name": "stdout",
     "output_type": "stream",
     "text": [
      "0\n",
      "1\n",
      "2\n",
      "3\n",
      "4\n",
      "5\n"
     ]
    }
   ],
   "source": [
    "head = createLinkedList([1, 2, 3, 4, 5])\n",
    "newNode = ListNode(0)\n",
    "newNode.next = head\n",
    "head = newNode\n",
    "\n",
    "p = head\n",
    "while p is not None:\n",
    "    print(p.val)\n",
    "    p = p.next"
   ]
  },
  {
   "cell_type": "markdown",
   "id": "34acec89",
   "metadata": {},
   "source": [
    "#### 在单链表尾部插入新元素"
   ]
  },
  {
   "cell_type": "code",
   "execution_count": 6,
   "id": "b07a4856",
   "metadata": {},
   "outputs": [
    {
     "name": "stdout",
     "output_type": "stream",
     "text": [
      "1\n",
      "2\n",
      "3\n",
      "4\n",
      "5\n",
      "6\n"
     ]
    }
   ],
   "source": [
    "head = createLinkedList([1, 2, 3, 4, 5])\n",
    "\n",
    "p = head\n",
    "while p.next is not None:\n",
    "    p = p.next\n",
    "p.next = ListNode(6)\n",
    "\n",
    "p = head\n",
    "while p is not None:\n",
    "    print(p.val)\n",
    "    p = p.next\n"
   ]
  },
  {
   "cell_type": "markdown",
   "id": "b12fbe86",
   "metadata": {},
   "source": [
    "#### 在单链表中间插入新元素"
   ]
  },
  {
   "cell_type": "code",
   "execution_count": 7,
   "id": "0f55f14a",
   "metadata": {},
   "outputs": [
    {
     "name": "stdout",
     "output_type": "stream",
     "text": [
      "1\n",
      "2\n",
      "3\n",
      "666\n",
      "4\n",
      "5\n"
     ]
    }
   ],
   "source": [
    "head = createLinkedList([1, 2, 3, 4, 5])\n",
    "p = head\n",
    "for _ in range(2):\n",
    "    p = p.next\n",
    "\n",
    "newNode = ListNode(666)\n",
    "newNode.next = p.next\n",
    "p.next = newNode\n",
    "\n",
    "p = head\n",
    "while p is not None:\n",
    "    print(p.val)\n",
    "    p = p.next\n"
   ]
  },
  {
   "cell_type": "markdown",
   "id": "811a6245",
   "metadata": {},
   "source": [
    "#### 在单链表中删除一个节点"
   ]
  },
  {
   "cell_type": "code",
   "execution_count": 10,
   "id": "449c3dbe",
   "metadata": {},
   "outputs": [
    {
     "name": "stdout",
     "output_type": "stream",
     "text": [
      "1\n",
      "2\n",
      "3\n",
      "5\n"
     ]
    }
   ],
   "source": [
    "head = createLinkedList([1, 2, 3, 4, 5])\n",
    "p = head\n",
    "\n",
    "for _ in range(2):\n",
    "    p = p.next\n",
    "\n",
    "p.next = p.next.next\n",
    "\n",
    "p = head\n",
    "while p is not None:\n",
    "    print(p.val)\n",
    "    p = p.next\n"
   ]
  },
  {
   "cell_type": "code",
   "execution_count": null,
   "id": "89fab28b",
   "metadata": {},
   "outputs": [],
   "source": []
  }
 ],
 "metadata": {
  "kernelspec": {
   "display_name": "Learning",
   "language": "python",
   "name": "python3"
  },
  "language_info": {
   "codemirror_mode": {
    "name": "ipython",
    "version": 3
   },
   "file_extension": ".py",
   "mimetype": "text/x-python",
   "name": "python",
   "nbconvert_exporter": "python",
   "pygments_lexer": "ipython3",
   "version": "3.10.18"
  }
 },
 "nbformat": 4,
 "nbformat_minor": 5
}
